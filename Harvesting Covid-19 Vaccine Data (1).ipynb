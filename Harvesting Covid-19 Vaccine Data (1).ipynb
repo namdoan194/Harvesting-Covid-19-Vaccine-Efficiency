{
 "cells": [
  {
   "cell_type": "code",
   "execution_count": 27,
   "metadata": {},
   "outputs": [],
   "source": [
    "import pandas as pd\n",
    "import requests\n",
    "from bs4 import BeautifulSoup\n",
    "import urllib"
   ]
  },
  {
   "cell_type": "code",
   "execution_count": 28,
   "metadata": {},
   "outputs": [],
   "source": [
    "url = 'http://www.healthdata.org/covid/covid-19-vaccine-efficacy-summary'"
   ]
  },
  {
   "cell_type": "code",
   "execution_count": 29,
   "metadata": {},
   "outputs": [
    {
     "data": {
      "text/plain": [
       "<Response [200]>"
      ]
     },
     "execution_count": 29,
     "metadata": {},
     "output_type": "execute_result"
    }
   ],
   "source": [
    "s = requests.Session()\n",
    "response = s.get(url,timeout=10)\n",
    "response"
   ]
  },
  {
   "cell_type": "code",
   "execution_count": 30,
   "metadata": {},
   "outputs": [
    {
     "name": "stdout",
     "output_type": "stream",
     "text": [
      "[{\"0\":\"Vaccine\",\"1\":\"Efficacy at preventing disease: D614G & B.1.1.7\",\"2\":\"Efficacy at preventing infection: D614G & B.1.1.7\",\"3\":\"Efficacy at preventing disease: B.1.351 & P.1\",\"4\":\"Efficacy at preventing infection: B.1.351 & P.1\"},{\"0\":\"Pfizer\\/BioNTech\",\"1\":\"91%\",\"2\":\"86%\",\"3\":\"69%\",\"4\":\"45%\"},{\"0\":\"Moderna\",\"1\":\"94%\",\"2\":\"85%\",\"3\":\"72%\",\"4\":\"47%\"},{\"0\":\"AstraZeneca\",\"1\":\"75%\",\"2\":\"52%\",\"3\":\"10%\",\"4\":\"6%\"},{\"0\":\"Johnson & Johnson (Janssen)\",\"1\":\"72%\",\"2\":\"72%\",\"3\":\"64%\",\"4\":\"42%\"},{\"0\":\"Sputnik-V\",\"1\":\"92%\",\"2\":\"80%\",\"3\":\"70%\",\"4\":\"45%\"},{\"0\":\"Novavax\",\"1\":\"89%\",\"2\":\"77%\",\"3\":\"49%\",\"4\":\"32%\"},{\"0\":\"CoronaVac\",\"1\":\"50%\",\"2\":\"43%\",\"3\":\"38%\",\"4\":\"25%\"},{\"0\":\"Sinopharm\",\"1\":\"73%\",\"2\":\"63%\",\"3\":\"56%\",\"4\":\"36%\"},{\"0\":\"Tianjin CanSino\",\"1\":\"66%\",\"2\":\"57%\",\"3\":\"50%\",\"4\":\"32%\"},{\"0\":\"Other mRNA vaccines\",\"1\":\"95%\",\"2\":\"83%\",\"3\":\"72%\",\"4\":\"47%\"},{\"0\":\"All other vaccines\",\"1\":\"75%\",\"2\":\"65%\",\"3\":\"57%\",\"4\":\"37%\"}]\n"
     ]
    }
   ],
   "source": [
    "res = requests.get(url)\n",
    "soup = BeautifulSoup(res.content,'lxml')\n",
    "table = soup.find_all('table')[-1]\n",
    "df = pd.read_html(str(table))\n",
    "print(df[0].to_json(orient='records'))"
   ]
  },
  {
   "cell_type": "code",
   "execution_count": 32,
   "metadata": {},
   "outputs": [
    {
     "name": "stdout",
     "output_type": "stream",
     "text": [
      "The title of the webpage is: \n",
      "COVID-19 vaccine efficacy summary | Institute for Health Metrics and Evaluation\n"
     ]
    }
   ],
   "source": [
    "print('The title of the webpage is: ')\n",
    "print(soup.title.get_text())"
   ]
  },
  {
   "cell_type": "code",
   "execution_count": 33,
   "metadata": {},
   "outputs": [
    {
     "data": {
      "text/html": [
       "<div>\n",
       "<style scoped>\n",
       "    .dataframe tbody tr th:only-of-type {\n",
       "        vertical-align: middle;\n",
       "    }\n",
       "\n",
       "    .dataframe tbody tr th {\n",
       "        vertical-align: top;\n",
       "    }\n",
       "\n",
       "    .dataframe thead th {\n",
       "        text-align: right;\n",
       "    }\n",
       "</style>\n",
       "<table border=\"1\" class=\"dataframe\">\n",
       "  <thead>\n",
       "    <tr style=\"text-align: right;\">\n",
       "      <th></th>\n",
       "      <th>Vaccine</th>\n",
       "      <th>Efficacy at preventing disease: D614G &amp; B.1.1.7</th>\n",
       "      <th>Efficacy at preventing infection: D614G &amp; B.1.1.7</th>\n",
       "      <th>Efficacy at preventing disease: B.1.351 &amp; P.1</th>\n",
       "      <th>Efficacy at preventing infection: B.1.351 &amp; P.1</th>\n",
       "    </tr>\n",
       "  </thead>\n",
       "  <tbody>\n",
       "    <tr>\n",
       "      <th>1</th>\n",
       "      <td>Pfizer/BioNTech</td>\n",
       "      <td>91%</td>\n",
       "      <td>86%</td>\n",
       "      <td>69%</td>\n",
       "      <td>45%</td>\n",
       "    </tr>\n",
       "    <tr>\n",
       "      <th>2</th>\n",
       "      <td>Moderna</td>\n",
       "      <td>94%</td>\n",
       "      <td>85%</td>\n",
       "      <td>72%</td>\n",
       "      <td>47%</td>\n",
       "    </tr>\n",
       "    <tr>\n",
       "      <th>3</th>\n",
       "      <td>AstraZeneca</td>\n",
       "      <td>75%</td>\n",
       "      <td>52%</td>\n",
       "      <td>10%</td>\n",
       "      <td>6%</td>\n",
       "    </tr>\n",
       "    <tr>\n",
       "      <th>4</th>\n",
       "      <td>Johnson &amp; Johnson (Janssen)</td>\n",
       "      <td>72%</td>\n",
       "      <td>72%</td>\n",
       "      <td>64%</td>\n",
       "      <td>42%</td>\n",
       "    </tr>\n",
       "    <tr>\n",
       "      <th>5</th>\n",
       "      <td>Sputnik-V</td>\n",
       "      <td>92%</td>\n",
       "      <td>80%</td>\n",
       "      <td>70%</td>\n",
       "      <td>45%</td>\n",
       "    </tr>\n",
       "    <tr>\n",
       "      <th>6</th>\n",
       "      <td>Novavax</td>\n",
       "      <td>89%</td>\n",
       "      <td>77%</td>\n",
       "      <td>49%</td>\n",
       "      <td>32%</td>\n",
       "    </tr>\n",
       "    <tr>\n",
       "      <th>7</th>\n",
       "      <td>CoronaVac</td>\n",
       "      <td>50%</td>\n",
       "      <td>43%</td>\n",
       "      <td>38%</td>\n",
       "      <td>25%</td>\n",
       "    </tr>\n",
       "    <tr>\n",
       "      <th>8</th>\n",
       "      <td>Sinopharm</td>\n",
       "      <td>73%</td>\n",
       "      <td>63%</td>\n",
       "      <td>56%</td>\n",
       "      <td>36%</td>\n",
       "    </tr>\n",
       "    <tr>\n",
       "      <th>9</th>\n",
       "      <td>Tianjin CanSino</td>\n",
       "      <td>66%</td>\n",
       "      <td>57%</td>\n",
       "      <td>50%</td>\n",
       "      <td>32%</td>\n",
       "    </tr>\n",
       "    <tr>\n",
       "      <th>10</th>\n",
       "      <td>Other mRNA vaccines</td>\n",
       "      <td>95%</td>\n",
       "      <td>83%</td>\n",
       "      <td>72%</td>\n",
       "      <td>47%</td>\n",
       "    </tr>\n",
       "    <tr>\n",
       "      <th>11</th>\n",
       "      <td>All other vaccines</td>\n",
       "      <td>75%</td>\n",
       "      <td>65%</td>\n",
       "      <td>57%</td>\n",
       "      <td>37%</td>\n",
       "    </tr>\n",
       "  </tbody>\n",
       "</table>\n",
       "</div>"
      ],
      "text/plain": [
       "                        Vaccine  \\\n",
       "1               Pfizer/BioNTech   \n",
       "2                       Moderna   \n",
       "3                   AstraZeneca   \n",
       "4   Johnson & Johnson (Janssen)   \n",
       "5                     Sputnik-V   \n",
       "6                       Novavax   \n",
       "7                     CoronaVac   \n",
       "8                     Sinopharm   \n",
       "9               Tianjin CanSino   \n",
       "10          Other mRNA vaccines   \n",
       "11           All other vaccines   \n",
       "\n",
       "   Efficacy at preventing disease: D614G & B.1.1.7  \\\n",
       "1                                              91%   \n",
       "2                                              94%   \n",
       "3                                              75%   \n",
       "4                                              72%   \n",
       "5                                              92%   \n",
       "6                                              89%   \n",
       "7                                              50%   \n",
       "8                                              73%   \n",
       "9                                              66%   \n",
       "10                                             95%   \n",
       "11                                             75%   \n",
       "\n",
       "   Efficacy at preventing infection: D614G & B.1.1.7  \\\n",
       "1                                                86%   \n",
       "2                                                85%   \n",
       "3                                                52%   \n",
       "4                                                72%   \n",
       "5                                                80%   \n",
       "6                                                77%   \n",
       "7                                                43%   \n",
       "8                                                63%   \n",
       "9                                                57%   \n",
       "10                                               83%   \n",
       "11                                               65%   \n",
       "\n",
       "   Efficacy at preventing disease: B.1.351 & P.1  \\\n",
       "1                                            69%   \n",
       "2                                            72%   \n",
       "3                                            10%   \n",
       "4                                            64%   \n",
       "5                                            70%   \n",
       "6                                            49%   \n",
       "7                                            38%   \n",
       "8                                            56%   \n",
       "9                                            50%   \n",
       "10                                           72%   \n",
       "11                                           57%   \n",
       "\n",
       "   Efficacy at preventing infection: B.1.351 & P.1  \n",
       "1                                              45%  \n",
       "2                                              47%  \n",
       "3                                               6%  \n",
       "4                                              42%  \n",
       "5                                              45%  \n",
       "6                                              32%  \n",
       "7                                              25%  \n",
       "8                                              36%  \n",
       "9                                              32%  \n",
       "10                                             47%  \n",
       "11                                             37%  "
      ]
     },
     "execution_count": 33,
     "metadata": {},
     "output_type": "execute_result"
    }
   ],
   "source": [
    "new_df = pd.DataFrame(df[0])\n",
    "\n",
    "Vaccine = new_df.drop(new_df.index[0],inplace=False)\n",
    "\n",
    "Vaccine.columns = ['Vaccine','Efficacy at preventing disease: D614G & B.1.1.7','Efficacy at preventing infection: D614G & B.1.1.7','Efficacy at preventing disease: B.1.351 & P.1','Efficacy at preventing infection: B.1.351 & P.1']\n",
    "\n",
    "Vaccine"
   ]
  },
  {
   "cell_type": "code",
   "execution_count": 34,
   "metadata": {},
   "outputs": [],
   "source": [
    "Vaccine.to_csv('Vaccine.csv')"
   ]
  }
 ],
 "metadata": {
  "kernelspec": {
   "display_name": "Python 3",
   "language": "python",
   "name": "python3"
  },
  "language_info": {
   "codemirror_mode": {
    "name": "ipython",
    "version": 3
   },
   "file_extension": ".py",
   "mimetype": "text/x-python",
   "name": "python",
   "nbconvert_exporter": "python",
   "pygments_lexer": "ipython3",
   "version": "3.7.6"
  }
 },
 "nbformat": 4,
 "nbformat_minor": 4
}
